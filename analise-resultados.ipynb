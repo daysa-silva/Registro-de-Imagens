{
 "cells": [
  {
   "cell_type": "code",
   "execution_count": 49,
   "metadata": {},
   "outputs": [],
   "source": [
    "import pandas as pd\n",
    "import ast\n",
    "import matplotlib.pyplot as plt"
   ]
  },
  {
   "cell_type": "markdown",
   "metadata": {},
   "source": [
    "## Importando e tratando os dados"
   ]
  },
  {
   "cell_type": "code",
   "execution_count": 35,
   "metadata": {},
   "outputs": [
    {
     "data": {
      "text/html": [
       "<div>\n",
       "<style scoped>\n",
       "    .dataframe tbody tr th:only-of-type {\n",
       "        vertical-align: middle;\n",
       "    }\n",
       "\n",
       "    .dataframe tbody tr th {\n",
       "        vertical-align: top;\n",
       "    }\n",
       "\n",
       "    .dataframe thead th {\n",
       "        text-align: right;\n",
       "    }\n",
       "</style>\n",
       "<table border=\"1\" class=\"dataframe\">\n",
       "  <thead>\n",
       "    <tr style=\"text-align: right;\">\n",
       "      <th></th>\n",
       "      <th>extractor</th>\n",
       "      <th>key_points</th>\n",
       "      <th>feature_extract_time</th>\n",
       "      <th>matching</th>\n",
       "      <th>matches</th>\n",
       "      <th>feature_matching_time</th>\n",
       "      <th>rmse_homography</th>\n",
       "      <th>images</th>\n",
       "      <th>error</th>\n",
       "    </tr>\n",
       "  </thead>\n",
       "  <tbody>\n",
       "    <tr>\n",
       "      <th>0</th>\n",
       "      <td>brisk</td>\n",
       "      <td>[29259, 37205]</td>\n",
       "      <td>[0.8927, 0.7508]</td>\n",
       "      <td>knn</td>\n",
       "      <td>109</td>\n",
       "      <td>8.9773</td>\n",
       "      <td>364.42</td>\n",
       "      <td>['images/reduce/casa2.png', 'images/reduce/cas...</td>\n",
       "      <td>False</td>\n",
       "    </tr>\n",
       "    <tr>\n",
       "      <th>1</th>\n",
       "      <td>brisk</td>\n",
       "      <td>[29259, 37205]</td>\n",
       "      <td>[0.809, 0.9934]</td>\n",
       "      <td>bf</td>\n",
       "      <td>7334</td>\n",
       "      <td>21.0680</td>\n",
       "      <td>1153.59</td>\n",
       "      <td>['images/reduce/casa2.png', 'images/reduce/cas...</td>\n",
       "      <td>True</td>\n",
       "    </tr>\n",
       "    <tr>\n",
       "      <th>2</th>\n",
       "      <td>orb</td>\n",
       "      <td>[500, 500]</td>\n",
       "      <td>[0.0695, 0.0671]</td>\n",
       "      <td>knn</td>\n",
       "      <td>5</td>\n",
       "      <td>0.0029</td>\n",
       "      <td>NaN</td>\n",
       "      <td>['images/reduce/casa2.png', 'images/reduce/cas...</td>\n",
       "      <td>True</td>\n",
       "    </tr>\n",
       "    <tr>\n",
       "      <th>3</th>\n",
       "      <td>orb</td>\n",
       "      <td>[500, 500]</td>\n",
       "      <td>[0.0726, 0.0557]</td>\n",
       "      <td>bf</td>\n",
       "      <td>159</td>\n",
       "      <td>0.0118</td>\n",
       "      <td>663.51</td>\n",
       "      <td>['images/reduce/casa2.png', 'images/reduce/cas...</td>\n",
       "      <td>True</td>\n",
       "    </tr>\n",
       "    <tr>\n",
       "      <th>4</th>\n",
       "      <td>sift</td>\n",
       "      <td>[5972, 9541]</td>\n",
       "      <td>[1.1843, 0.7686]</td>\n",
       "      <td>knn</td>\n",
       "      <td>89</td>\n",
       "      <td>0.8393</td>\n",
       "      <td>472.53</td>\n",
       "      <td>['images/reduce/casa2.png', 'images/reduce/cas...</td>\n",
       "      <td>False</td>\n",
       "    </tr>\n",
       "  </tbody>\n",
       "</table>\n",
       "</div>"
      ],
      "text/plain": [
       "  extractor      key_points feature_extract_time matching  matches  \\\n",
       "0     brisk  [29259, 37205]     [0.8927, 0.7508]      knn      109   \n",
       "1     brisk  [29259, 37205]      [0.809, 0.9934]       bf     7334   \n",
       "2       orb      [500, 500]     [0.0695, 0.0671]      knn        5   \n",
       "3       orb      [500, 500]     [0.0726, 0.0557]       bf      159   \n",
       "4      sift    [5972, 9541]     [1.1843, 0.7686]      knn       89   \n",
       "\n",
       "   feature_matching_time  rmse_homography  \\\n",
       "0                 8.9773           364.42   \n",
       "1                21.0680          1153.59   \n",
       "2                 0.0029              NaN   \n",
       "3                 0.0118           663.51   \n",
       "4                 0.8393           472.53   \n",
       "\n",
       "                                              images  error  \n",
       "0  ['images/reduce/casa2.png', 'images/reduce/cas...  False  \n",
       "1  ['images/reduce/casa2.png', 'images/reduce/cas...   True  \n",
       "2  ['images/reduce/casa2.png', 'images/reduce/cas...   True  \n",
       "3  ['images/reduce/casa2.png', 'images/reduce/cas...   True  \n",
       "4  ['images/reduce/casa2.png', 'images/reduce/cas...  False  "
      ]
     },
     "execution_count": 35,
     "metadata": {},
     "output_type": "execute_result"
    }
   ],
   "source": [
    "df = pd.read_csv('resultados.csv')\n",
    "df.head()"
   ]
  },
  {
   "cell_type": "code",
   "execution_count": 32,
   "metadata": {},
   "outputs": [
    {
     "data": {
      "text/plain": [
       "'[29259, 37205]'"
      ]
     },
     "execution_count": 32,
     "metadata": {},
     "output_type": "execute_result"
    }
   ],
   "source": [
    "# Veja que todas as colunas que são listas, estão sendo lidas como a representação em string de uma lista\n",
    "df['key_points'][1]"
   ]
  },
  {
   "cell_type": "code",
   "execution_count": 36,
   "metadata": {},
   "outputs": [
    {
     "data": {
      "text/plain": [
       "[29259, 37205]"
      ]
     },
     "execution_count": 36,
     "metadata": {},
     "output_type": "execute_result"
    }
   ],
   "source": [
    "# Portanto, vamos transformá-los em listas de verdade\n",
    "## key_points\n",
    "df['key_points'] = df['key_points'].map(ast.literal_eval)\n",
    "\n",
    "## feature_extract_time\n",
    "df['feature_extract_time'] = df['feature_extract_time'].map(ast.literal_eval)\n",
    "\n",
    "## images\n",
    "df['images'] = df['images'].map(ast.literal_eval)\n",
    "\n"
   ]
  },
  {
   "cell_type": "markdown",
   "metadata": {},
   "source": [
    "## Analisando os dados"
   ]
  },
  {
   "cell_type": "code",
   "execution_count": 47,
   "metadata": {},
   "outputs": [
    {
     "data": {
      "image/png": "[encoded data removed]",
      "text/plain": [
       "<Figure size 640x480 with 2 Axes>"
      ]
     },
     "metadata": {},
     "output_type": "display_data"
    }
   ],
   "source": [
    "num_extractor = df['extractor'][df['error']== False].value_counts()\n",
    "num_matching = df['matching'][df['error']== False].value_counts()\n",
    "\n",
    "plt.subplot(2, 1, 1)\n",
    "plt.pie(num_extractor.values, labels=num_extractor.index)\n",
    "plt.title('Total de amostras por método de extração de características')\n",
    "\n",
    "plt.subplot(2, 1, 2)\n",
    "plt.pie(num_matching.values, labels=num_matching.index)\n",
    "plt.title('Total de amostras por método de correspondência de características')\n",
    "\n",
    "plt.show()\n"
   ]
  }
 ],
 "metadata": {
  "kernelspec": {
   "display_name": "py3cv4",
   "language": "python",
   "name": "python3"
  },
  "language_info": {
   "codemirror_mode": {
    "name": "ipython",
    "version": 3
   },
   "file_extension": ".py",
   "mimetype": "text/x-python",
   "name": "python",
   "nbconvert_exporter": "python",
   "pygments_lexer": "ipython3",
   "version": "3.10.12"
  },
  "orig_nbformat": 4
 },
 "nbformat": 4,
 "nbformat_minor": 2
}
